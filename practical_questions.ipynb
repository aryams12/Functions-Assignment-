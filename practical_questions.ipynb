{
 "cells": [
  {
   "cell_type": "markdown",
   "id": "988b591c",
   "metadata": {},
   "source": [
    "### 1. Sum of all even numbers in a list"
   ]
  },
  {
   "cell_type": "code",
   "execution_count": null,
   "id": "e8094368",
   "metadata": {},
   "outputs": [],
   "source": [
    "\n",
    "def sum_even_numbers(numbers):\n",
    "    return sum(num for num in numbers if num % 2 == 0)\n",
    "\n",
    "print(sum_even_numbers([1, 2, 3, 4, 5, 6]))\n"
   ]
  },
  {
   "cell_type": "markdown",
   "id": "6bdae0d4",
   "metadata": {},
   "source": [
    "### 2. Reverse a string"
   ]
  },
  {
   "cell_type": "code",
   "execution_count": null,
   "id": "2e27ca33",
   "metadata": {},
   "outputs": [],
   "source": [
    "\n",
    "def reverse_string(s):\n",
    "    return s[::-1]\n",
    "\n",
    "print(reverse_string(\"Python\"))\n"
   ]
  },
  {
   "cell_type": "markdown",
   "id": "b4f7319f",
   "metadata": {},
   "source": [
    "### 3. Squares of numbers"
   ]
  },
  {
   "cell_type": "code",
   "execution_count": null,
   "id": "dc5633c7",
   "metadata": {},
   "outputs": [],
   "source": [
    "\n",
    "def square_numbers(numbers):\n",
    "    return [num ** 2 for num in numbers]\n",
    "\n",
    "print(square_numbers([1, 2, 3, 4, 5]))\n"
   ]
  },
  {
   "cell_type": "markdown",
   "id": "2e1273ef",
   "metadata": {},
   "source": [
    "### 4. Prime numbers from 1 to 200"
   ]
  },
  {
   "cell_type": "code",
   "execution_count": null,
   "id": "3bb21185",
   "metadata": {},
   "outputs": [],
   "source": [
    "\n",
    "def is_prime(n):\n",
    "    if n < 2:\n",
    "        return False\n",
    "    for i in range(2, int(n ** 0.5) + 1):\n",
    "        if n % i == 0:\n",
    "            return False\n",
    "    return True\n",
    "\n",
    "print([n for n in range(1, 201) if is_prime(n)])\n"
   ]
  },
  {
   "cell_type": "markdown",
   "id": "b41a667d",
   "metadata": {},
   "source": [
    "### 5. Fibonacci iterator"
   ]
  },
  {
   "cell_type": "code",
   "execution_count": null,
   "id": "6e59b0ee",
   "metadata": {},
   "outputs": [],
   "source": [
    "\n",
    "class FibonacciIterator:\n",
    "    def __init__(self, limit):\n",
    "        self.limit = limit\n",
    "        self.a, self.b = 0, 1\n",
    "        self.count = 0\n",
    "\n",
    "    def __iter__(self):\n",
    "        return self\n",
    "\n",
    "    def __next__(self):\n",
    "        if self.count >= self.limit:\n",
    "            raise StopIteration\n",
    "        self.count += 1\n",
    "        self.a, self.b = self.b, self.a + self.b\n",
    "        return self.a\n",
    "\n",
    "print(list(FibonacciIterator(10)))\n"
   ]
  },
  {
   "cell_type": "markdown",
   "id": "8de95c02",
   "metadata": {},
   "source": [
    "### 6. Generator for powers of 2"
   ]
  },
  {
   "cell_type": "code",
   "execution_count": null,
   "id": "677f9ffa",
   "metadata": {},
   "outputs": [],
   "source": [
    "\n",
    "def powers_of_two(n):\n",
    "    for i in range(n + 1):\n",
    "        yield 2 ** i\n",
    "\n",
    "print(list(powers_of_two(5)))\n"
   ]
  },
  {
   "cell_type": "markdown",
   "id": "e726ff3d",
   "metadata": {},
   "source": [
    "### 7. Generator reading a file line by line"
   ]
  },
  {
   "cell_type": "code",
   "execution_count": null,
   "id": "3f3e7878",
   "metadata": {},
   "outputs": [],
   "source": [
    "\n",
    "def read_file_line_by_line(filename):\n",
    "    with open(filename, 'r') as file:\n",
    "        for line in file:\n",
    "            yield line.strip()\n"
   ]
  },
  {
   "cell_type": "markdown",
   "id": "da1999cc",
   "metadata": {},
   "source": [
    "### 8. Sort list of tuples using lambda"
   ]
  },
  {
   "cell_type": "code",
   "execution_count": null,
   "id": "71767f96",
   "metadata": {},
   "outputs": [],
   "source": [
    "\n",
    "tuples_list = [(1, 3), (2, 1), (4, 2)]\n",
    "sorted_list = sorted(tuples_list, key=lambda x: x[1])\n",
    "print(sorted_list)\n"
   ]
  },
  {
   "cell_type": "markdown",
   "id": "e71ea8ce",
   "metadata": {},
   "source": [
    "### 9. Convert Celsius to Fahrenheit using map"
   ]
  },
  {
   "cell_type": "code",
   "execution_count": null,
   "id": "c4af4d56",
   "metadata": {},
   "outputs": [],
   "source": [
    "\n",
    "celsius = [0, 20, 37, 100]\n",
    "fahrenheit = list(map(lambda c: (9/5)*c + 32, celsius))\n",
    "print(fahrenheit)\n"
   ]
  },
  {
   "cell_type": "markdown",
   "id": "e4720afd",
   "metadata": {},
   "source": [
    "### 10. Remove vowels using filter"
   ]
  },
  {
   "cell_type": "code",
   "execution_count": null,
   "id": "342d26f3",
   "metadata": {},
   "outputs": [],
   "source": [
    "\n",
    "def remove_vowels(s):\n",
    "    return ''.join(filter(lambda x: x.lower() not in 'aeiou', s))\n",
    "\n",
    "print(remove_vowels(\"Hello World\"))\n"
   ]
  },
  {
   "cell_type": "markdown",
   "id": "fb08d66a",
   "metadata": {},
   "source": [
    "### 11. Accounting program using lambda and map"
   ]
  },
  {
   "cell_type": "code",
   "execution_count": null,
   "id": "a001422d",
   "metadata": {},
   "outputs": [],
   "source": [
    "\n",
    "orders = [\n",
    "    [34587, \"Learning Python, Mark Lutz\", 4, 40.95],\n",
    "    [98762, \"Programming Python, Mark Lutz\", 5, 56.80],\n",
    "    [77226, \"Head First Python, Paul Barry\", 3, 32.95],\n",
    "    [88112, \"Einführung in Python3, Bernd Klein\", 3, 24.99]\n",
    "]\n",
    "\n",
    "invoice_totals = list(map(lambda order: (order[0], order[2] * order[3] if order[2] * order[3] > 100 else order[2] * order[3] + 10), orders))\n",
    "\n",
    "print(invoice_totals)\n"
   ]
  }
 ],
 "metadata": {},
 "nbformat": 4,
 "nbformat_minor": 5
}
