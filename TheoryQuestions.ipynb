{
 "cells": [
  {
   "cell_type": "markdown",
   "id": "ba95f5fe",
   "metadata": {},
   "source": [
    "# 📘 Python Functions & Iterators – Theory Questions (1–10)"
   ]
  },
  {
   "cell_type": "markdown",
   "id": "894d59df",
   "metadata": {},
   "source": [
    "### **1. Difference between a Function and a Method in Python**\n",
    "- **Function:** A block of reusable code defined using `def` and called independently.\n",
    "- **Method:** A function that is associated with an object and called using dot (`.`) notation.\n"
   ]
  },
  {
   "cell_type": "code",
   "execution_count": null,
   "id": "b3037332",
   "metadata": {},
   "outputs": [],
   "source": [
    "# Example\n",
    "# Function\n",
    "def greet():\n",
    "    print(\"Hello!\")\n",
    "\n",
    "# Method\n",
    "name = \"Aryaman\"\n",
    "print(name.upper())  # 'upper()' is a string method\n"
   ]
  },
  {
   "cell_type": "markdown",
   "id": "5055d9be",
   "metadata": {},
   "source": [
    "### **2. Function Arguments and Parameters**\n",
    "- **Parameters** are variables defined in the function definition.\n",
    "- **Arguments** are actual values passed when calling the function.\n"
   ]
  },
  {
   "cell_type": "code",
   "execution_count": null,
   "id": "b893dfaa",
   "metadata": {},
   "outputs": [],
   "source": [
    "def add(a, b):  # a, b = parameters\n",
    "    return a + b\n",
    "\n",
    "print(add(5, 3))  # 5, 3 = arguments\n"
   ]
  },
  {
   "cell_type": "markdown",
   "id": "2a80f503",
   "metadata": {},
   "source": [
    "### **3. Ways to Define and Call a Function**\n",
    "1. User-defined function\n",
    "2. Built-in function (`len()`, `print()`)\n",
    "3. Lambda (anonymous) function\n"
   ]
  },
  {
   "cell_type": "code",
   "execution_count": null,
   "id": "cb6d25ba",
   "metadata": {},
   "outputs": [],
   "source": [
    "# User-defined\n",
    "def square(x):\n",
    "    return x * x\n",
    "\n",
    "print(square(4))\n",
    "\n",
    "# Lambda function\n",
    "cube = lambda x: x**3\n",
    "print(cube(3))\n"
   ]
  },
  {
   "cell_type": "markdown",
   "id": "e912f81b",
   "metadata": {},
   "source": [
    "### **4. Purpose of the `return` Statement**\n",
    "It is used to send a value back from a function to the caller.\n"
   ]
  },
  {
   "cell_type": "code",
   "execution_count": null,
   "id": "3b8498a5",
   "metadata": {},
   "outputs": [],
   "source": [
    "def multiply(a, b):\n",
    "    return a * b\n",
    "\n",
    "result = multiply(4, 5)\n",
    "print(result)  # 20\n"
   ]
  },
  {
   "cell_type": "markdown",
   "id": "07583d1b",
   "metadata": {},
   "source": [
    "### **5. Iterators vs Iterables**\n",
    "- **Iterable:** Any object that can be looped over (`list`, `tuple`, `string`).\n",
    "- **Iterator:** An object that returns one item at a time using `next()`.\n"
   ]
  },
  {
   "cell_type": "code",
   "execution_count": null,
   "id": "24a9fc08",
   "metadata": {},
   "outputs": [],
   "source": [
    "my_list = [1, 2, 3]\n",
    "it = iter(my_list)   # Iterator\n",
    "print(next(it))  # 1\n",
    "print(next(it))  # 2\n"
   ]
  },
  {
   "cell_type": "markdown",
   "id": "bfdb24f3",
   "metadata": {},
   "source": [
    "### **6. Generators in Python**\n",
    "A **generator** is a function that yields values one at a time using the `yield` keyword instead of `return`.\n"
   ]
  },
  {
   "cell_type": "code",
   "execution_count": null,
   "id": "9b6a17d0",
   "metadata": {},
   "outputs": [],
   "source": [
    "def countdown(n):\n",
    "    while n > 0:\n",
    "        yield n\n",
    "        n -= 1\n",
    "\n",
    "for num in countdown(3):\n",
    "    print(num)\n"
   ]
  },
  {
   "cell_type": "markdown",
   "id": "a183f7e2",
   "metadata": {},
   "source": [
    "### **7. Advantages of Generators**\n",
    "- Save **memory** (don’t store all items in memory)\n",
    "- **Lazy evaluation** (generate values only when needed)\n",
    "- Easier to write **iterators**\n"
   ]
  },
  {
   "cell_type": "code",
   "execution_count": null,
   "id": "c59309c8",
   "metadata": {},
   "outputs": [],
   "source": [
    "def squares(n):\n",
    "    for i in range(n):\n",
    "        yield i * i\n",
    "\n",
    "for val in squares(5):\n",
    "    print(val)\n"
   ]
  },
  {
   "cell_type": "markdown",
   "id": "b7620a25",
   "metadata": {},
   "source": [
    "### **8. Lambda Function**\n",
    "A **lambda** is an anonymous, single-line function. It’s used for short, throwaway functions.\n"
   ]
  },
  {
   "cell_type": "code",
   "execution_count": null,
   "id": "9fab7b5f",
   "metadata": {},
   "outputs": [],
   "source": [
    "add = lambda x, y: x + y\n",
    "print(add(3, 5))  # 8\n"
   ]
  },
  {
   "cell_type": "markdown",
   "id": "b83854dd",
   "metadata": {},
   "source": [
    "### **9. Purpose of `map()`**\n",
    "Applies a function to every item in an iterable and returns a new iterable (map object).\n"
   ]
  },
  {
   "cell_type": "code",
   "execution_count": null,
   "id": "ed654afc",
   "metadata": {},
   "outputs": [],
   "source": [
    "nums = [1, 2, 3, 4]\n",
    "squared = map(lambda x: x**2, nums)\n",
    "print(list(squared))  # [1, 4, 9, 16]\n"
   ]
  },
  {
   "cell_type": "markdown",
   "id": "519eb5f9",
   "metadata": {},
   "source": [
    "### **10. Difference between `map()`, `reduce()`, and `filter()`**\n",
    "| Function | Purpose | Example |\n",
    "|-----------|----------|----------|\n",
    "| `map()` | Applies a function to all items | `map(lambda x:x*2,[1,2,3])` → `[2,4,6]` |\n",
    "| `filter()` | Keeps items that match a condition | `filter(lambda x:x>2,[1,2,3])` → `[3]` |\n",
    "| `reduce()` | Combines all items into a single value | `reduce(lambda x,y:x+y,[1,2,3])` → `6` |\n"
   ]
  },
  {
   "cell_type": "code",
   "execution_count": null,
   "id": "f73d2ea8",
   "metadata": {},
   "outputs": [],
   "source": [
    "from functools import reduce\n",
    "\n",
    "nums = [1, 2, 3, 4]\n",
    "print(list(map(lambda x: x*2, nums)))       # [2, 4, 6, 8]\n",
    "print(list(filter(lambda x: x%2==0, nums))) # [2, 4]\n",
    "print(reduce(lambda x, y: x+y, nums))       # 10\n"
   ]
  }
 ],
 "metadata": {},
 "nbformat": 4,
 "nbformat_minor": 5
}
